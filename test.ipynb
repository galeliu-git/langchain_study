{
 "cells": [
  {
   "cell_type": "code",
   "execution_count": 6,
   "metadata": {},
   "outputs": [
    {
     "ename": "ImportError",
     "evalue": "cannot import name 'ChatZhipuAI' from 'langchain_community.llms' (/usr/local/python3.11/lib/python3.11/site-packages/langchain_community/llms/__init__.py)",
     "output_type": "error",
     "traceback": [
      "\u001b[0;31m---------------------------------------------------------------------------\u001b[0m",
      "\u001b[0;31mImportError\u001b[0m                               Traceback (most recent call last)",
      "\u001b[1;32m/data/galeliu/langchain_study/test.ipynb 单元格 1\u001b[0m line \u001b[0;36m2\n\u001b[1;32m      <a href='vscode-notebook-cell://ssh-remote%2Bdevcloud/data/galeliu/langchain_study/test.ipynb#W1sdnNjb2RlLXJlbW90ZQ%3D%3D?line=0'>1</a>\u001b[0m \u001b[39mfrom\u001b[39;00m \u001b[39mlangchain_community\u001b[39;00m\u001b[39m.\u001b[39;00m\u001b[39mchat_models\u001b[39;00m \u001b[39mimport\u001b[39;00m ChatZhipuAI\n\u001b[0;32m----> <a href='vscode-notebook-cell://ssh-remote%2Bdevcloud/data/galeliu/langchain_study/test.ipynb#W1sdnNjb2RlLXJlbW90ZQ%3D%3D?line=1'>2</a>\u001b[0m \u001b[39mfrom\u001b[39;00m \u001b[39mlangchain_community\u001b[39;00m\u001b[39m.\u001b[39;00m\u001b[39mllms\u001b[39;00m \u001b[39mimport\u001b[39;00m ChatZhipuAI\n\u001b[1;32m      <a href='vscode-notebook-cell://ssh-remote%2Bdevcloud/data/galeliu/langchain_study/test.ipynb#W1sdnNjb2RlLXJlbW90ZQ%3D%3D?line=2'>3</a>\u001b[0m \u001b[39mfrom\u001b[39;00m \u001b[39mlangchain\u001b[39;00m\u001b[39m.\u001b[39;00m\u001b[39mschema\u001b[39;00m \u001b[39mimport\u001b[39;00m AIMessage, HumanMessage, SystemMessage\n\u001b[1;32m      <a href='vscode-notebook-cell://ssh-remote%2Bdevcloud/data/galeliu/langchain_study/test.ipynb#W1sdnNjb2RlLXJlbW90ZQ%3D%3D?line=3'>4</a>\u001b[0m \u001b[39mfrom\u001b[39;00m \u001b[39mlangchain_core\u001b[39;00m\u001b[39m.\u001b[39;00m\u001b[39mprompts\u001b[39;00m \u001b[39mimport\u001b[39;00m PromptTemplate\n",
      "\u001b[0;31mImportError\u001b[0m: cannot import name 'ChatZhipuAI' from 'langchain_community.llms' (/usr/local/python3.11/lib/python3.11/site-packages/langchain_community/llms/__init__.py)"
     ]
    }
   ],
   "source": [
    "from langchain_community.chat_models import ChatZhipuAI\n",
    "from langchain.schema import AIMessage, HumanMessage, SystemMessage\n",
    "from langchain_core.prompts import PromptTemplate"
   ]
  },
  {
   "cell_type": "code",
   "execution_count": 4,
   "metadata": {},
   "outputs": [],
   "source": [
    "api_key = '286bd4c2e06eac46c294180fbeca3948.J0y2r3whdNUzfC4a'\n",
    "chat = ChatZhipuAI(\n",
    "    model=\"glm-3-turbo\",\n",
    "    api_key=api_key,\n",
    ")"
   ]
  },
  {
   "cell_type": "code",
   "execution_count": 4,
   "metadata": {},
   "outputs": [
    {
     "name": "stdout",
     "output_type": "stream",
     "text": [
      "content='如果您喜欢吃西红柿，并且希望发挥西红柿的营养价值，可以考虑以下几种食用方式：\\n\\n1. 生吃：直接食用新鲜西红柿，可以最大限度地保留其营养成分。适合味道鲜美、成熟度适中的西红柿。\\n\\n2. 做西红柿炒鸡蛋：这是中国人餐桌上非常常见的一道菜。它简单易做，且营养丰富。西红柿中的维生素C和番茄红素，与鸡蛋中的优质蛋白质相结合，既能提供能量，又有益健康。\\n\\n3. 制作西红柿鸡蛋面：将西红柿和鸡蛋融入面条中，既能满足口感，又能提供丰富的营养。面条提供的碳水化合物，能给身体提供能量。\\n\\n4. 每天一个西红柿：像每天吃一个苹果一样，每天吃一个西红柿，有助于补充维生素和矿物质，促进健康。\\n\\n不过，需要注意的是，由于西红柿性寒，如果您脾胃虚寒或者胃肠道功能不好，应该适量食用，避免过量导致腹泻。同时，西红柿烹饪时不宜长时间加热，以免破坏其中的营养成分。' response_metadata={'token_usage': {'completion_tokens': 214, 'prompt_tokens': 1643, 'total_tokens': 1857}, 'model_name': 'glm-3-turbo', 'finish_reason': 'stop'} id='run-e828ef8e-4f4d-4e65-b33b-f6e0bfa5bd08-0'\n"
     ]
    }
   ],
   "source": [
    "res = chat.invoke(\n",
    "    [\n",
    "    SystemMessage(content=\"你是一个川菜点餐智能机器人，可以帮助用户在简短的句子里弄清楚吃什么\"),\n",
    "    HumanMessage(content=\"我喜欢吃西红柿，我应该吃什么？\"),\n",
    "    ]\n",
    "    )\n",
    "print(res)"
   ]
  },
  {
   "cell_type": "code",
   "execution_count": 5,
   "metadata": {},
   "outputs": [
    {
     "name": "stdout",
     "output_type": "stream",
     "text": [
      "content='既然你喜欢西红柿，你还可以考虑西红柿炖牛腩、麻婆豆腐、酸辣土豆丝等川菜经典菜肴。' response_metadata={'token_usage': {'completion_tokens': 28, 'prompt_tokens': 46, 'total_tokens': 74}, 'model_name': 'glm-3-turbo', 'finish_reason': 'stop'} id='run-082c7d0c-5b57-48c8-a31b-36a037d8308a-0'\n"
     ]
    }
   ],
   "source": [
    "res = chat.invoke(\n",
    "    [\n",
    "    SystemMessage(content=\"你是一个川菜点餐智能机器人，可以帮助用户在简短的句子里弄清楚吃什么\"),\n",
    "    HumanMessage(content=\"我喜欢吃西红柿，我应该吃什么？\"),\n",
    "    AIMessage(content=\"你可以吃西红柿炒鸡蛋\"),\n",
    "    HumanMessage(content=\"我还可以吃什么？\"),\n",
    "    ]\n",
    "    )\n",
    "print(res)"
   ]
  },
  {
   "cell_type": "code",
   "execution_count": null,
   "metadata": {},
   "outputs": [],
   "source": [
    "\n"
   ]
  },
  {
   "cell_type": "code",
   "execution_count": 10,
   "metadata": {},
   "outputs": [
    {
     "ename": "ImportError",
     "evalue": "cannot import name 'ChatZhipuAI' from 'langchain.llms' (/usr/local/python3.11/lib/python3.11/site-packages/langchain/llms/__init__.py)",
     "output_type": "error",
     "traceback": [
      "\u001b[0;31m---------------------------------------------------------------------------\u001b[0m",
      "\u001b[0;31mImportError\u001b[0m                               Traceback (most recent call last)",
      "\u001b[1;32m/data/galeliu/langchain_study/test.ipynb 单元格 6\u001b[0m line \u001b[0;36m1\n\u001b[0;32m----> <a href='vscode-notebook-cell://ssh-remote%2Bdevcloud/data/galeliu/langchain_study/test.ipynb#W4sdnNjb2RlLXJlbW90ZQ%3D%3D?line=0'>1</a>\u001b[0m \u001b[39mfrom\u001b[39;00m \u001b[39mlangchain\u001b[39;00m\u001b[39m.\u001b[39;00m\u001b[39mllms\u001b[39;00m \u001b[39mimport\u001b[39;00m ChatZhipuAI\n",
      "\u001b[0;31mImportError\u001b[0m: cannot import name 'ChatZhipuAI' from 'langchain.llms' (/usr/local/python3.11/lib/python3.11/site-packages/langchain/llms/__init__.py)"
     ]
    }
   ],
   "source": [
    "from langchain.llms import ChatZhipuAI"
   ]
  },
  {
   "cell_type": "code",
   "execution_count": null,
   "metadata": {},
   "outputs": [],
   "source": []
  },
  {
   "cell_type": "code",
   "execution_count": 8,
   "metadata": {},
   "outputs": [],
   "source": [
    "llm = chatglm.ChatGLM(api_key=api_key,model=\"glm-3-turbo\",)"
   ]
  },
  {
   "cell_type": "code",
   "execution_count": 11,
   "metadata": {},
   "outputs": [
    {
     "name": "stdout",
     "output_type": "stream",
     "text": [
      "我很想去北京旅行，我想去故宫，我应该在那里做什么？\n",
      "content='去北京旅行，故宫是必游的景点之一。故宫，又称紫禁城，是明清两代的皇家宫殿，拥有近千年的历史，是世界上现存规模最大、保存最为完整的木质结构古建筑群。参观故宫，您可以体验到皇家宫殿的雄伟与历史的厚重。\\n\\n【游览前准备】\\n1. **了解开放时间和预约情况**：因应季节和政策调整，故宫的开放时间可能会有所变化。为确保顺利入园，请提前通过官方网站或相关服务进行门票预约。\\n2. **穿着舒适**：故宫占地面积广阔，需要大量步行，建议穿着轻便舒适的衣物和鞋子。\\n3. **行程规划**：提前规划好游览路线，决定想要重点参观的区域，如太和殿、乾清宫等，也可安排时间观看故宫的定时讲解活动。\\n\\n【游览时注意事项】\\n1. **尊重文化**：在游览时请保持安静，尊重景区内的文化和历史遗迹。\\n2. **拍照留念**：在允许拍照的区域拍照留念，不要在禁止摄影的地方违规操作。\\n3. **文明游览**：不随地乱扔垃圾，保持环境卫生。\\n\\n【深度体验】\\n1. **聆听讲解**：可以参加故宫提供的官方讲解服务，或者请一位专业的导游，深入了解每一处建筑和历史背后的故事。\\n2. **文化体验**：参观结束后，您可以选择在附近的餐馆品尝北京传统美食，如炸酱面、北京烤鸭等，感受当地生活。\\n\\n【周边游览】\\n1. **connaught 湖**：故宫北门外有connaught 湖，您可以沿着湖边散步，欣赏美丽的湖光山色。\\n2. **景山公园**：位于故宫后面，可以登高远眺故宫全景，感受历史的变迁。\\n\\n【交通方式】\\n1. **地铁**：乘坐地铁1号线至天安门东站下车，步行即可到达。\\n2. **公交**：多条公交线路可达故宫附近。\\n\\n总之，故宫不仅是一处旅游景点，更是一本活生生的历史教科书。希望您在北京故宫的旅行中，既能放松身心，又能收获知识与文化的体验。祝您旅途愉快！' response_metadata={'token_usage': {'completion_tokens': 463, 'prompt_tokens': 1671, 'total_tokens': 2134}, 'model_name': 'glm-3-turbo', 'finish_reason': 'stop'} id='run-1393bbce-ba46-4443-a7db-8b562a000d55-0'\n"
     ]
    }
   ],
   "source": [
    "template = '''我很想去{location}旅行，{reason}，我应该在那里做什么？'''\n",
    "prompt = PromptTemplate(template=template,input_variables=['location','reason'])\n",
    "final_prompt = prompt.format(location='北京',reason='我想去故宫')\n",
    "print(final_prompt)\n",
    "res = chat.invoke(\n",
    "    [\n",
    "    HumanMessage(content=final_prompt),\n",
    "    ]\n",
    "    )\n",
    "print(res)"
   ]
  },
  {
   "cell_type": "code",
   "execution_count": null,
   "metadata": {},
   "outputs": [],
   "source": []
  },
  {
   "cell_type": "code",
   "execution_count": null,
   "metadata": {},
   "outputs": [],
   "source": []
  }
 ],
 "metadata": {
  "kernelspec": {
   "display_name": "Python 3",
   "language": "python",
   "name": "python3"
  },
  "language_info": {
   "codemirror_mode": {
    "name": "ipython",
    "version": 3
   },
   "file_extension": ".py",
   "mimetype": "text/x-python",
   "name": "python",
   "nbconvert_exporter": "python",
   "pygments_lexer": "ipython3",
   "version": "3.11.3"
  }
 },
 "nbformat": 4,
 "nbformat_minor": 2
}
